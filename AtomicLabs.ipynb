{
 "cells": [
  {
   "cell_type": "markdown",
   "metadata": {},
   "source": [
    "# Examen Atomic Labs \n",
    "Roberto Narvaez Hernandez"
   ]
  },
  {
   "cell_type": "code",
   "execution_count": null,
   "metadata": {},
   "outputs": [],
   "source": [
    "import numpy as np\n",
    "import random\n",
    "import csv"
   ]
  },
  {
   "cell_type": "markdown",
   "metadata": {},
   "source": [
    "## Funciones usadas"
   ]
  },
  {
   "cell_type": "markdown",
   "metadata": {},
   "source": [
    "### Estas dos funciones se usan para definir cuales seran los pasos que dara cada zombie en una iteracion y donde terminara "
   ]
  },
  {
   "cell_type": "code",
   "execution_count": null,
   "metadata": {},
   "outputs": [],
   "source": [
    "# Funcion checa si el zombie pasa junto a un humano\n",
    "def juntoHum (opciones):\n",
    "    pos = []\n",
    "    for i in range(8):\n",
    "        if Map[opciones[i,0],opciones[i,1]] == 1:\n",
    "            pos = np.append(pos,i)\n",
    "    return pos"
   ]
  },
  {
   "cell_type": "code",
   "execution_count": null,
   "metadata": {},
   "outputs": [],
   "source": [
    "# Funcion Zombie Avanza\n",
    "def ZombieA(ubi,indiceZ):\n",
    "    # Creamos copia del mapa\n",
    "    mapt = np.copy(Map)\n",
    "    mapt[15:19,19] = -1\n",
    "    # Casillas disponibles\n",
    "    cercanos = np.array([[ubi[0]-1,ubi[1]-1],[ubi[0]-1,ubi[1]],[ubi[0]-1,ubi[1]+1],[ubi[0],ubi[1]-1],\n",
    "                        [ubi[0],ubi[1]+1],[ubi[0]+1,ubi[1]-1],[ubi[0]+1,ubi[1]],[ubi[0]+1,ubi[1]+1]])\n",
    "    for i in range(4):\n",
    "        # Bloqueamos la casilla actual para que no regrese a ella \n",
    "        mapt[ubi[0],ubi[1]] = 7\n",
    "        # Elegimos nueva posicion alazar\n",
    "        # Probabilidades \n",
    "        p = np.zeros(8)\n",
    "        # Encontramos casillas disponibles\n",
    "        for i in range(8):\n",
    "            if mapt[cercanos[i,0],cercanos[i,1]] == 0:\n",
    "                p[i] = 1\n",
    "        # Elejimos aleatoriamente\n",
    "        if np.all((p == 0)):\n",
    "            break\n",
    "        norma = np.linalg.norm(p,ord=1)\n",
    "        p = p/norma\n",
    "        rand = np.random.choice(np.arange(8),1,p=p)\n",
    "        ubi = cercanos[rand[0],:]\n",
    "        # print(\"El zombie se movio a :\",ubi[0],ubi[1])\n",
    "        # Casillas disponibles\n",
    "        cercanos = np.array([[ubi[0]-1,ubi[1]-1],[ubi[0]-1,ubi[1]],[ubi[0]-1,ubi[1]+1],[ubi[0],ubi[1]-1],\n",
    "                            [ubi[0],ubi[1]+1],[ubi[0]+1,ubi[1]-1],[ubi[0]+1,ubi[1]],[ubi[0]+1,ubi[1]+1]])\n",
    "        # Si pasa junto a un humano lo vuelve zombie\n",
    "        for n in juntoHum(cercanos):\n",
    "            N = int(n)\n",
    "            Map[cercanos[N,0],cercanos[N,1]] = 2\n",
    "            indice = np.where((Agentes[:,0] == cercanos[N,0]) & (Agentes[:,1] == cercanos[N,1]))\n",
    "            print(\"El humano\", Nombres[Agentes[indice[0][0],3]], \"ha sido infectado en la casilla x =\", cercanos[N,0], \n",
    "                  \"y =\", cercanos[N,1],\"por el Zombie\",Nombres[Agentes[indiceZ,3]])\n",
    "            Agentes[indice[0][0],2] = 2\n",
    "    return ubi"
   ]
  },
  {
   "cell_type": "markdown",
   "metadata": {},
   "source": [
    "### Estas dos funcioes hacen lo mismo pero para el movimiento de los humanos"
   ]
  },
  {
   "cell_type": "code",
   "execution_count": null,
   "metadata": {},
   "outputs": [],
   "source": [
    "# Funcion checa si humano pasa junto a zombie \n",
    "def juntoZom(opciones):\n",
    "    for i in range(8):\n",
    "        if Map[opciones[i,0],opciones[i,1]] == 5:\n",
    "            indice = np.where((Agentes[:,0] == opciones[i,0]) & (Agentes[:,1] == opciones[i,1]))\n",
    "            res = indice[0][0] + 1\n",
    "            return res\n",
    "    return 0"
   ]
  },
  {
   "cell_type": "code",
   "execution_count": null,
   "metadata": {},
   "outputs": [],
   "source": [
    "# Funcion humano avanza \n",
    "def HumanoA(ubi,indice):\n",
    "    # Creamos copia del mapa\n",
    "    mapt = np.copy(Map)\n",
    "    # pesos para probabilidades\n",
    "    ch = 0.1\n",
    "    m = 0.75\n",
    "    g = 2\n",
    "    # Casillas disponibles\n",
    "    cercanos = np.array([[ubi[0]-1,ubi[1]-1],[ubi[0]-1,ubi[1]],[ubi[0]-1,ubi[1]+1],[ubi[0],ubi[1]-1],\n",
    "                        [ubi[0],ubi[1]+1],[ubi[0]+1,ubi[1]-1],[ubi[0]+1,ubi[1]],[ubi[0]+1,ubi[1]+1]])\n",
    "    for i in range(2):\n",
    "    # Bloqueamos la casilla actual para que no regrese a ella \n",
    "        mapt[ubi[0],ubi[1]] = 7\n",
    "    # Elegimos a que casilla nos vamos a mover\n",
    "        # Probabilidades \n",
    "        p = np.zeros(8)\n",
    "        # Encontramos casillas disponibles\n",
    "        for i in range(8):\n",
    "            if mapt[cercanos[i,0],cercanos[i,1]] == 0:\n",
    "                p[i] = 1\n",
    "        # Damos mas peso a posibilidades favorables\n",
    "        if ubi[0] <= 10:\n",
    "            if ubi[1] <= 8:\n",
    "                mov = np.array([ch,ch,ch,m,g,m,g,g])\n",
    "            elif ((ubi[1] >= 9) and (ubi[1] <= 12)):\n",
    "                mov = np.array([ch,ch,ch,g,g,g,g,g])\n",
    "            else:\n",
    "                mov = np.array([ch,ch,ch,g,m,g,g,m])\n",
    "        elif ((ubi[0] >= 11) and (ubi[0] <= 14)):\n",
    "            mov = np.array([ch,m,m,ch,g,ch,g,g])\n",
    "        else:\n",
    "            mov = np.array([ch,m,g,ch,g,ch,m,g])\n",
    "        p = p*mov\n",
    "        # Elegimos a donde se va a mover\n",
    "        if np.all((p == 0)):\n",
    "            break\n",
    "        norma = np.linalg.norm(p,ord=1)\n",
    "        p = p/norma\n",
    "        rand = np.random.choice(np.arange(8),1,p=p)\n",
    "        ubi = cercanos[rand[0],:]\n",
    "        #print(\"El humano se movio a :\",ubi[0],ubi[1])\n",
    "    # Casillas disponibles\n",
    "        cercanos = np.array([[ubi[0]-1,ubi[1]-1],[ubi[0]-1,ubi[1]],[ubi[0]-1,ubi[1]+1],[ubi[0],ubi[1]-1],\n",
    "                            [ubi[0],ubi[1]+1],[ubi[0]+1,ubi[1]-1],[ubi[0]+1,ubi[1]],[ubi[0]+1,ubi[1]+1]])\n",
    "    # Checar si llego a la salida \n",
    "        if ubi[1] == 19:\n",
    "            print(\"El humano\", Nombres[Agentes[indice,3]], \"salvado en la casilla x = \", ubi[0], \"y =\", ubi[1])\n",
    "            Agentes[indice,2] = 10\n",
    "            break\n",
    "    # Checar si esta junto a un zombie\n",
    "        indiceZ = juntoZom(cercanos)\n",
    "        if indiceZ:\n",
    "            print(\"El humano\", Nombres[Agentes[indice,3]], \"ha sido infectado en x =\", ubi[0], \"y =\", ubi[1],\n",
    "                  \"por el Zombie\",Nombres[Agentes[indiceZ-1,3]])\n",
    "            Agentes[indice,2] = 2\n",
    "            break\n",
    "    return ubi"
   ]
  },
  {
   "cell_type": "markdown",
   "metadata": {},
   "source": [
    "## Variables"
   ]
  },
  {
   "cell_type": "markdown",
   "metadata": {},
   "source": [
    "### Aqui contrui el mapa donde se moveran las personas y los zombies"
   ]
  },
  {
   "cell_type": "code",
   "execution_count": null,
   "metadata": {},
   "outputs": [],
   "source": [
    "# Hacemos el mapa\n",
    "Map = np.zeros([20,20])\n",
    "Map[0:,[0,19]] = -1\n",
    "Map[[0,19],0:] = -1\n",
    "Map[10,0:8] = -1\n",
    "Map[10,12:] = -1\n",
    "Map[[4,12,16],2:8] = -1\n",
    "Map[4,10:17] = -1\n",
    "Map[5:8,13] = -1\n",
    "Map[12:16,[12,16]] = -1\n",
    "Map[15:19,19] = 0"
   ]
  },
  {
   "cell_type": "markdown",
   "metadata": {},
   "source": [
    "### Aqui esta el vector donde se guarda la posicion de cada persona y zombie"
   ]
  },
  {
   "cell_type": "code",
   "execution_count": null,
   "metadata": {},
   "outputs": [],
   "source": [
    "# Array de agentes (x,y,1-persona 2-4 transformando 5-zombie)\n",
    "Agentes = np.array([[1,9,1],[3,3,1],[3,6,1],[3,11,1],[3,15,1],[5,4,1],[6,15,1],[7,2,1],[7,7,1],[8,3,1],[8,17,1],[9,11,1],\n",
    "                   [12,13,1],[13,3,1],[13,17,1],[14,6,1],[15,10,1],[17,3,1],[17,7,1],[17,13,1],[1,0,5],[1,0,5]])\n",
    "Agentes = np.append(Agentes,np.reshape(np.arange(22),(22,1)),axis=1)\n",
    "Nombres = ('Fernando','Enrique','Gerardo','Diego','Andres','Liliana','Hildamar','Sergio','Kinich','Alejandro','Julio','Ivan',\n",
    "           'Eduardo','Alain','Romina','Pamela','Amaury','Sandra','Little Rock','Tallahassee','Columbus','Wichita')\n",
    "Agentes[[20,21],1] = random.sample([3,4,5,6,13,14,15,16], k = 2)\n",
    "print(\"El zombie\", Nombres[20], \"llego por la ventana de la casilla x =\", Agentes[20,0],\", y =\", Agentes[20,1])\n",
    "print(\"El zombie\", Nombres[21], \"llego por la ventana de la casilla x =\", Agentes[21,0],\", y =\", Agentes[21,1])\n",
    "\n",
    "# Agregamos los agentes al mapa\n",
    "for i in range(22):\n",
    "    Map[Agentes[i,0],Agentes[i,1]] = Agentes[i,2]"
   ]
  },
  {
   "cell_type": "markdown",
   "metadata": {},
   "source": [
    "## Aqui junto todo y corre la simulacion"
   ]
  },
  {
   "cell_type": "code",
   "execution_count": null,
   "metadata": {},
   "outputs": [],
   "source": [
    "itera = 1\n",
    "Mapas = np.reshape(Map,(1,20,20))\n",
    "status = np.array([[itera,2,20,0,0]])\n",
    "datos = open('Info.txt','w')\n",
    "datos.write('Iteracion | Zombies | Humanos en la oficina | Humanos salvados | Humanos infectandose \\n')\n",
    "while 1 in Agentes[:,2]:\n",
    "    Agentes = np.random.permutation(Agentes)\n",
    "    for i in range (22):\n",
    "        pos = Agentes [i,[0,1]]\n",
    "        # Si se esta volviendo zombie\n",
    "        if Agentes [i,2] in [2,3,4]:\n",
    "            Agentes [i,2] += 1\n",
    "        # Si es Zombie\n",
    "        elif Agentes [i,2] == 5:\n",
    "            Agentes [i,[0,1]] = ZombieA(pos,i)\n",
    "        # Si es humano\n",
    "        elif Agentes [i,2] == 1:\n",
    "            Agentes [i,[0,1]] = HumanoA(pos,i)\n",
    "        # Si ya es libre la persona\n",
    "        elif Agentes [i,2] == 10:\n",
    "            continue\n",
    "        # Actualizamos mapa\n",
    "        Map[pos[0],pos[1]] = 0\n",
    "        Map[Agentes[i,0],Agentes[i,1]] = Agentes[i,2]\n",
    "    # Guardar mapa en esta iteración\n",
    "    Mapas = np.append(Mapas, np.reshape(Map,(1,20,20)), axis = 0)\n",
    "    # Liberar espacios de personas salvadas\n",
    "    for i in [15,16,17,18]:\n",
    "        if Map[i,19] == 10:\n",
    "            Map[i,19] = 0\n",
    "            indice = np.where((Agentes[:,0] == i) & (Agentes[:,1] == 19))\n",
    "            Agentes[indice[0][0],[0,1]] = [0,0]\n",
    "    # Guardamos vector con iteracion, zombies, personas dentro y salvadas\n",
    "    z = np.count_nonzero(Agentes[:,2] == 5)\n",
    "    pd = np.count_nonzero(Agentes[:,2] == 1)\n",
    "    pf = np.count_nonzero(Agentes[:,2] == 10)\n",
    "    pi = np.count_nonzero(np.logical_or(Agentes[:,2] == 2, Agentes[:,2] == 3, Agentes[:,2] == 4))\n",
    "    status = np.append(status,[[itera,z,pd,pf,pi]],axis = 0)\n",
    "    unido = \" \".join([str(itera),'|',str(z),'|',str(pd),'|',str(pf),'|',str(pi),'\\n'])\n",
    "    datos.write(unido)\n",
    "    # Actualizamos contador\n",
    "    itera += 1\n",
    "\n",
    "datos.close()"
   ]
  }
 ],
 "metadata": {
  "kernelspec": {
   "display_name": "Python 3",
   "language": "python",
   "name": "python3"
  },
  "language_info": {
   "codemirror_mode": {
    "name": "ipython",
    "version": 3
   },
   "file_extension": ".py",
   "mimetype": "text/x-python",
   "name": "python",
   "nbconvert_exporter": "python",
   "pygments_lexer": "ipython3",
   "version": "3.8.3"
  }
 },
 "nbformat": 4,
 "nbformat_minor": 4
}
